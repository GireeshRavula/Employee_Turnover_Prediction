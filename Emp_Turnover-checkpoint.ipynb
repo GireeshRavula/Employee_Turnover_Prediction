{
 "cells": [
  {
   "cell_type": "code",
   "execution_count": 109,
   "id": "ef9d8813-158d-4af9-abe4-a86a3bb219a0",
   "metadata": {},
   "outputs": [
    {
     "name": "stdout",
     "output_type": "stream",
     "text": [
      "Requirement already satisfied: scikit-learn in c:\\users\\prana\\desktop\\intern\\ds\\datascience\\lib\\site-packages (1.3.2)\n",
      "Requirement already satisfied: numpy<2.0,>=1.17.3 in c:\\users\\prana\\desktop\\intern\\ds\\datascience\\lib\\site-packages (from scikit-learn) (1.26.1)\n",
      "Requirement already satisfied: scipy>=1.5.0 in c:\\users\\prana\\desktop\\intern\\ds\\datascience\\lib\\site-packages (from scikit-learn) (1.11.3)\n",
      "Requirement already satisfied: joblib>=1.1.1 in c:\\users\\prana\\desktop\\intern\\ds\\datascience\\lib\\site-packages (from scikit-learn) (1.3.2)\n",
      "Requirement already satisfied: threadpoolctl>=2.0.0 in c:\\users\\prana\\desktop\\intern\\ds\\datascience\\lib\\site-packages (from scikit-learn) (3.2.0)\n",
      "Note: you may need to restart the kernel to use updated packages.\n"
     ]
    }
   ],
   "source": [
    "pip install -U scikit-learn"
   ]
  },
  {
   "cell_type": "code",
   "execution_count": 112,
   "id": "8427e677-111c-4f09-962b-17e39087bd13",
   "metadata": {},
   "outputs": [],
   "source": [
    "from sklearn import externals"
   ]
  },
  {
   "cell_type": "code",
   "execution_count": 54,
   "id": "00ab4582-62d9-4f48-89f1-ca490bb6c178",
   "metadata": {},
   "outputs": [],
   "source": [
    "import numpy as np\n",
    "import pandas as pd"
   ]
  },
  {
   "cell_type": "code",
   "execution_count": 55,
   "id": "c7c99656-2c32-4831-8600-7e501755eb2f",
   "metadata": {},
   "outputs": [
    {
     "data": {
      "text/html": [
       "<div>\n",
       "<style scoped>\n",
       "    .dataframe tbody tr th:only-of-type {\n",
       "        vertical-align: middle;\n",
       "    }\n",
       "\n",
       "    .dataframe tbody tr th {\n",
       "        vertical-align: top;\n",
       "    }\n",
       "\n",
       "    .dataframe thead th {\n",
       "        text-align: right;\n",
       "    }\n",
       "</style>\n",
       "<table border=\"1\" class=\"dataframe\">\n",
       "  <thead>\n",
       "    <tr style=\"text-align: right;\">\n",
       "      <th></th>\n",
       "      <th>department</th>\n",
       "      <th>promoted</th>\n",
       "      <th>review</th>\n",
       "      <th>projects</th>\n",
       "      <th>salary</th>\n",
       "      <th>tenure</th>\n",
       "      <th>satisfaction</th>\n",
       "      <th>bonus</th>\n",
       "      <th>avg_hrs_month</th>\n",
       "      <th>left</th>\n",
       "    </tr>\n",
       "  </thead>\n",
       "  <tbody>\n",
       "    <tr>\n",
       "      <th>0</th>\n",
       "      <td>operations</td>\n",
       "      <td>0</td>\n",
       "      <td>0.577569</td>\n",
       "      <td>3</td>\n",
       "      <td>low</td>\n",
       "      <td>5.0</td>\n",
       "      <td>0.626759</td>\n",
       "      <td>0</td>\n",
       "      <td>180.866070</td>\n",
       "      <td>no</td>\n",
       "    </tr>\n",
       "    <tr>\n",
       "      <th>1</th>\n",
       "      <td>operations</td>\n",
       "      <td>0</td>\n",
       "      <td>0.751900</td>\n",
       "      <td>3</td>\n",
       "      <td>medium</td>\n",
       "      <td>6.0</td>\n",
       "      <td>0.443679</td>\n",
       "      <td>0</td>\n",
       "      <td>182.708149</td>\n",
       "      <td>no</td>\n",
       "    </tr>\n",
       "    <tr>\n",
       "      <th>2</th>\n",
       "      <td>support</td>\n",
       "      <td>0</td>\n",
       "      <td>0.722548</td>\n",
       "      <td>3</td>\n",
       "      <td>medium</td>\n",
       "      <td>6.0</td>\n",
       "      <td>0.446823</td>\n",
       "      <td>0</td>\n",
       "      <td>184.416084</td>\n",
       "      <td>no</td>\n",
       "    </tr>\n",
       "    <tr>\n",
       "      <th>3</th>\n",
       "      <td>logistics</td>\n",
       "      <td>0</td>\n",
       "      <td>0.675158</td>\n",
       "      <td>4</td>\n",
       "      <td>high</td>\n",
       "      <td>8.0</td>\n",
       "      <td>0.440139</td>\n",
       "      <td>0</td>\n",
       "      <td>188.707545</td>\n",
       "      <td>no</td>\n",
       "    </tr>\n",
       "    <tr>\n",
       "      <th>4</th>\n",
       "      <td>sales</td>\n",
       "      <td>0</td>\n",
       "      <td>0.676203</td>\n",
       "      <td>3</td>\n",
       "      <td>high</td>\n",
       "      <td>5.0</td>\n",
       "      <td>0.577607</td>\n",
       "      <td>1</td>\n",
       "      <td>179.821083</td>\n",
       "      <td>no</td>\n",
       "    </tr>\n",
       "    <tr>\n",
       "      <th>...</th>\n",
       "      <td>...</td>\n",
       "      <td>...</td>\n",
       "      <td>...</td>\n",
       "      <td>...</td>\n",
       "      <td>...</td>\n",
       "      <td>...</td>\n",
       "      <td>...</td>\n",
       "      <td>...</td>\n",
       "      <td>...</td>\n",
       "      <td>...</td>\n",
       "    </tr>\n",
       "    <tr>\n",
       "      <th>9535</th>\n",
       "      <td>operations</td>\n",
       "      <td>0</td>\n",
       "      <td>0.610988</td>\n",
       "      <td>4</td>\n",
       "      <td>medium</td>\n",
       "      <td>8.0</td>\n",
       "      <td>0.543641</td>\n",
       "      <td>0</td>\n",
       "      <td>188.155738</td>\n",
       "      <td>yes</td>\n",
       "    </tr>\n",
       "    <tr>\n",
       "      <th>9536</th>\n",
       "      <td>logistics</td>\n",
       "      <td>0</td>\n",
       "      <td>0.746887</td>\n",
       "      <td>3</td>\n",
       "      <td>medium</td>\n",
       "      <td>8.0</td>\n",
       "      <td>0.549048</td>\n",
       "      <td>0</td>\n",
       "      <td>188.176164</td>\n",
       "      <td>yes</td>\n",
       "    </tr>\n",
       "    <tr>\n",
       "      <th>9537</th>\n",
       "      <td>operations</td>\n",
       "      <td>0</td>\n",
       "      <td>0.557980</td>\n",
       "      <td>3</td>\n",
       "      <td>low</td>\n",
       "      <td>7.0</td>\n",
       "      <td>0.705425</td>\n",
       "      <td>0</td>\n",
       "      <td>186.531008</td>\n",
       "      <td>yes</td>\n",
       "    </tr>\n",
       "    <tr>\n",
       "      <th>9538</th>\n",
       "      <td>IT</td>\n",
       "      <td>0</td>\n",
       "      <td>0.584446</td>\n",
       "      <td>4</td>\n",
       "      <td>medium</td>\n",
       "      <td>8.0</td>\n",
       "      <td>0.607287</td>\n",
       "      <td>1</td>\n",
       "      <td>187.641370</td>\n",
       "      <td>yes</td>\n",
       "    </tr>\n",
       "    <tr>\n",
       "      <th>9539</th>\n",
       "      <td>finance</td>\n",
       "      <td>0</td>\n",
       "      <td>0.626373</td>\n",
       "      <td>3</td>\n",
       "      <td>low</td>\n",
       "      <td>7.0</td>\n",
       "      <td>0.706455</td>\n",
       "      <td>1</td>\n",
       "      <td>185.920934</td>\n",
       "      <td>yes</td>\n",
       "    </tr>\n",
       "  </tbody>\n",
       "</table>\n",
       "<p>9540 rows × 10 columns</p>\n",
       "</div>"
      ],
      "text/plain": [
       "      department  promoted    review  projects  salary  tenure  satisfaction  \\\n",
       "0     operations         0  0.577569         3     low     5.0      0.626759   \n",
       "1     operations         0  0.751900         3  medium     6.0      0.443679   \n",
       "2        support         0  0.722548         3  medium     6.0      0.446823   \n",
       "3      logistics         0  0.675158         4    high     8.0      0.440139   \n",
       "4          sales         0  0.676203         3    high     5.0      0.577607   \n",
       "...          ...       ...       ...       ...     ...     ...           ...   \n",
       "9535  operations         0  0.610988         4  medium     8.0      0.543641   \n",
       "9536   logistics         0  0.746887         3  medium     8.0      0.549048   \n",
       "9537  operations         0  0.557980         3     low     7.0      0.705425   \n",
       "9538          IT         0  0.584446         4  medium     8.0      0.607287   \n",
       "9539     finance         0  0.626373         3     low     7.0      0.706455   \n",
       "\n",
       "      bonus  avg_hrs_month left  \n",
       "0         0     180.866070   no  \n",
       "1         0     182.708149   no  \n",
       "2         0     184.416084   no  \n",
       "3         0     188.707545   no  \n",
       "4         1     179.821083   no  \n",
       "...     ...            ...  ...  \n",
       "9535      0     188.155738  yes  \n",
       "9536      0     188.176164  yes  \n",
       "9537      0     186.531008  yes  \n",
       "9538      1     187.641370  yes  \n",
       "9539      1     185.920934  yes  \n",
       "\n",
       "[9540 rows x 10 columns]"
      ]
     },
     "execution_count": 55,
     "metadata": {},
     "output_type": "execute_result"
    }
   ],
   "source": [
    "data=pd.read_csv(\"Emp_Turnover.csv\")\n",
    "data"
   ]
  },
  {
   "cell_type": "code",
   "execution_count": 56,
   "id": "f77cdf30-6d7a-4096-83a8-73adafca21ac",
   "metadata": {},
   "outputs": [
    {
     "name": "stdout",
     "output_type": "stream",
     "text": [
      "<class 'pandas.core.frame.DataFrame'>\n",
      "RangeIndex: 9540 entries, 0 to 9539\n",
      "Data columns (total 10 columns):\n",
      " #   Column         Non-Null Count  Dtype  \n",
      "---  ------         --------------  -----  \n",
      " 0   department     9540 non-null   object \n",
      " 1   promoted       9540 non-null   int64  \n",
      " 2   review         9540 non-null   float64\n",
      " 3   projects       9540 non-null   int64  \n",
      " 4   salary         9540 non-null   object \n",
      " 5   tenure         9540 non-null   float64\n",
      " 6   satisfaction   9540 non-null   float64\n",
      " 7   bonus          9540 non-null   int64  \n",
      " 8   avg_hrs_month  9540 non-null   float64\n",
      " 9   left           9540 non-null   object \n",
      "dtypes: float64(4), int64(3), object(3)\n",
      "memory usage: 745.4+ KB\n"
     ]
    }
   ],
   "source": [
    "data.info()"
   ]
  },
  {
   "cell_type": "code",
   "execution_count": 57,
   "id": "256cc9c9-4a54-4e5a-b7fc-0b6f9d833755",
   "metadata": {},
   "outputs": [
    {
     "data": {
      "text/plain": [
       "department       0\n",
       "promoted         0\n",
       "review           0\n",
       "projects         0\n",
       "salary           0\n",
       "tenure           0\n",
       "satisfaction     0\n",
       "bonus            0\n",
       "avg_hrs_month    0\n",
       "left             0\n",
       "dtype: int64"
      ]
     },
     "execution_count": 57,
     "metadata": {},
     "output_type": "execute_result"
    }
   ],
   "source": [
    "data.isnull().sum()"
   ]
  },
  {
   "cell_type": "code",
   "execution_count": 58,
   "id": "db2fd985-fe21-4fa9-8c84-b83434cd8919",
   "metadata": {},
   "outputs": [
    {
     "data": {
      "text/plain": [
       "Index(['department', 'promoted', 'review', 'projects', 'salary', 'tenure',\n",
       "       'satisfaction', 'bonus', 'avg_hrs_month', 'left'],\n",
       "      dtype='object')"
      ]
     },
     "execution_count": 58,
     "metadata": {},
     "output_type": "execute_result"
    }
   ],
   "source": [
    "data.columns"
   ]
  },
  {
   "cell_type": "code",
   "execution_count": 59,
   "id": "ae710827-2cdf-42b8-a593-576fe5230e2c",
   "metadata": {},
   "outputs": [
    {
     "data": {
      "text/html": [
       "<div>\n",
       "<style scoped>\n",
       "    .dataframe tbody tr th:only-of-type {\n",
       "        vertical-align: middle;\n",
       "    }\n",
       "\n",
       "    .dataframe tbody tr th {\n",
       "        vertical-align: top;\n",
       "    }\n",
       "\n",
       "    .dataframe thead th {\n",
       "        text-align: right;\n",
       "    }\n",
       "</style>\n",
       "<table border=\"1\" class=\"dataframe\">\n",
       "  <thead>\n",
       "    <tr style=\"text-align: right;\">\n",
       "      <th></th>\n",
       "      <th>department</th>\n",
       "      <th>promoted</th>\n",
       "      <th>review</th>\n",
       "      <th>projects</th>\n",
       "      <th>salary</th>\n",
       "      <th>tenure</th>\n",
       "      <th>satisfaction</th>\n",
       "      <th>bonus</th>\n",
       "      <th>avg_hrs_month</th>\n",
       "      <th>left</th>\n",
       "    </tr>\n",
       "  </thead>\n",
       "  <tbody>\n",
       "    <tr>\n",
       "      <th>0</th>\n",
       "      <td>operations</td>\n",
       "      <td>0</td>\n",
       "      <td>0.577569</td>\n",
       "      <td>3</td>\n",
       "      <td>low</td>\n",
       "      <td>5.0</td>\n",
       "      <td>0.626759</td>\n",
       "      <td>0</td>\n",
       "      <td>180.866070</td>\n",
       "      <td>no</td>\n",
       "    </tr>\n",
       "    <tr>\n",
       "      <th>1</th>\n",
       "      <td>operations</td>\n",
       "      <td>0</td>\n",
       "      <td>0.751900</td>\n",
       "      <td>3</td>\n",
       "      <td>medium</td>\n",
       "      <td>6.0</td>\n",
       "      <td>0.443679</td>\n",
       "      <td>0</td>\n",
       "      <td>182.708149</td>\n",
       "      <td>no</td>\n",
       "    </tr>\n",
       "    <tr>\n",
       "      <th>2</th>\n",
       "      <td>support</td>\n",
       "      <td>0</td>\n",
       "      <td>0.722548</td>\n",
       "      <td>3</td>\n",
       "      <td>medium</td>\n",
       "      <td>6.0</td>\n",
       "      <td>0.446823</td>\n",
       "      <td>0</td>\n",
       "      <td>184.416084</td>\n",
       "      <td>no</td>\n",
       "    </tr>\n",
       "    <tr>\n",
       "      <th>3</th>\n",
       "      <td>logistics</td>\n",
       "      <td>0</td>\n",
       "      <td>0.675158</td>\n",
       "      <td>4</td>\n",
       "      <td>high</td>\n",
       "      <td>8.0</td>\n",
       "      <td>0.440139</td>\n",
       "      <td>0</td>\n",
       "      <td>188.707545</td>\n",
       "      <td>no</td>\n",
       "    </tr>\n",
       "    <tr>\n",
       "      <th>4</th>\n",
       "      <td>sales</td>\n",
       "      <td>0</td>\n",
       "      <td>0.676203</td>\n",
       "      <td>3</td>\n",
       "      <td>high</td>\n",
       "      <td>5.0</td>\n",
       "      <td>0.577607</td>\n",
       "      <td>1</td>\n",
       "      <td>179.821083</td>\n",
       "      <td>no</td>\n",
       "    </tr>\n",
       "    <tr>\n",
       "      <th>...</th>\n",
       "      <td>...</td>\n",
       "      <td>...</td>\n",
       "      <td>...</td>\n",
       "      <td>...</td>\n",
       "      <td>...</td>\n",
       "      <td>...</td>\n",
       "      <td>...</td>\n",
       "      <td>...</td>\n",
       "      <td>...</td>\n",
       "      <td>...</td>\n",
       "    </tr>\n",
       "    <tr>\n",
       "      <th>9535</th>\n",
       "      <td>operations</td>\n",
       "      <td>0</td>\n",
       "      <td>0.610988</td>\n",
       "      <td>4</td>\n",
       "      <td>medium</td>\n",
       "      <td>8.0</td>\n",
       "      <td>0.543641</td>\n",
       "      <td>0</td>\n",
       "      <td>188.155738</td>\n",
       "      <td>yes</td>\n",
       "    </tr>\n",
       "    <tr>\n",
       "      <th>9536</th>\n",
       "      <td>logistics</td>\n",
       "      <td>0</td>\n",
       "      <td>0.746887</td>\n",
       "      <td>3</td>\n",
       "      <td>medium</td>\n",
       "      <td>8.0</td>\n",
       "      <td>0.549048</td>\n",
       "      <td>0</td>\n",
       "      <td>188.176164</td>\n",
       "      <td>yes</td>\n",
       "    </tr>\n",
       "    <tr>\n",
       "      <th>9537</th>\n",
       "      <td>operations</td>\n",
       "      <td>0</td>\n",
       "      <td>0.557980</td>\n",
       "      <td>3</td>\n",
       "      <td>low</td>\n",
       "      <td>7.0</td>\n",
       "      <td>0.705425</td>\n",
       "      <td>0</td>\n",
       "      <td>186.531008</td>\n",
       "      <td>yes</td>\n",
       "    </tr>\n",
       "    <tr>\n",
       "      <th>9538</th>\n",
       "      <td>IT</td>\n",
       "      <td>0</td>\n",
       "      <td>0.584446</td>\n",
       "      <td>4</td>\n",
       "      <td>medium</td>\n",
       "      <td>8.0</td>\n",
       "      <td>0.607287</td>\n",
       "      <td>1</td>\n",
       "      <td>187.641370</td>\n",
       "      <td>yes</td>\n",
       "    </tr>\n",
       "    <tr>\n",
       "      <th>9539</th>\n",
       "      <td>finance</td>\n",
       "      <td>0</td>\n",
       "      <td>0.626373</td>\n",
       "      <td>3</td>\n",
       "      <td>low</td>\n",
       "      <td>7.0</td>\n",
       "      <td>0.706455</td>\n",
       "      <td>1</td>\n",
       "      <td>185.920934</td>\n",
       "      <td>yes</td>\n",
       "    </tr>\n",
       "  </tbody>\n",
       "</table>\n",
       "<p>9540 rows × 10 columns</p>\n",
       "</div>"
      ],
      "text/plain": [
       "      department  promoted    review  projects  salary  tenure  satisfaction  \\\n",
       "0     operations         0  0.577569         3     low     5.0      0.626759   \n",
       "1     operations         0  0.751900         3  medium     6.0      0.443679   \n",
       "2        support         0  0.722548         3  medium     6.0      0.446823   \n",
       "3      logistics         0  0.675158         4    high     8.0      0.440139   \n",
       "4          sales         0  0.676203         3    high     5.0      0.577607   \n",
       "...          ...       ...       ...       ...     ...     ...           ...   \n",
       "9535  operations         0  0.610988         4  medium     8.0      0.543641   \n",
       "9536   logistics         0  0.746887         3  medium     8.0      0.549048   \n",
       "9537  operations         0  0.557980         3     low     7.0      0.705425   \n",
       "9538          IT         0  0.584446         4  medium     8.0      0.607287   \n",
       "9539     finance         0  0.626373         3     low     7.0      0.706455   \n",
       "\n",
       "      bonus  avg_hrs_month left  \n",
       "0         0     180.866070   no  \n",
       "1         0     182.708149   no  \n",
       "2         0     184.416084   no  \n",
       "3         0     188.707545   no  \n",
       "4         1     179.821083   no  \n",
       "...     ...            ...  ...  \n",
       "9535      0     188.155738  yes  \n",
       "9536      0     188.176164  yes  \n",
       "9537      0     186.531008  yes  \n",
       "9538      1     187.641370  yes  \n",
       "9539      1     185.920934  yes  \n",
       "\n",
       "[9540 rows x 10 columns]"
      ]
     },
     "execution_count": 59,
     "metadata": {},
     "output_type": "execute_result"
    }
   ],
   "source": [
    "data"
   ]
  },
  {
   "cell_type": "code",
   "execution_count": 60,
   "id": "fe7729d6-b0ea-4420-a8e5-79ebc47ade31",
   "metadata": {},
   "outputs": [],
   "source": [
    "import plotly.express as px\n",
    "import plotly.graph_objects as go"
   ]
  },
  {
   "cell_type": "code",
   "execution_count": 61,
   "id": "8553fa38-78c0-4755-8dc0-02c7fa89335d",
   "metadata": {},
   "outputs": [],
   "source": [
    "from sklearn.preprocessing import LabelEncoder"
   ]
  },
  {
   "cell_type": "code",
   "execution_count": 62,
   "id": "cdb64d9c-5da1-44e2-94ce-3e4ca903b8ce",
   "metadata": {},
   "outputs": [],
   "source": [
    "encoder = LabelEncoder()"
   ]
  },
  {
   "cell_type": "code",
   "execution_count": 63,
   "id": "45f977a8-48f1-4267-bbe1-43ddc7ea6601",
   "metadata": {},
   "outputs": [
    {
     "name": "stdout",
     "output_type": "stream",
     "text": [
      "0 - no\n",
      "1 - yes\n"
     ]
    }
   ],
   "source": [
    "data['left'] = encoder.fit_transform(data['left'])\n",
    "label_dict = dict(zip(encoder.transform(encoder.classes_),\n",
    "                      encoder.classes_))\n",
    "#label_dict\n",
    "for numerical_value, original_label in label_dict.items():\n",
    "    print(f'{numerical_value} - {original_label}')"
   ]
  },
  {
   "cell_type": "code",
   "execution_count": 64,
   "id": "8a60b3d2-832a-4844-b313-111c0122e748",
   "metadata": {},
   "outputs": [
    {
     "name": "stdout",
     "output_type": "stream",
     "text": [
      "0 - high\n",
      "1 - low\n",
      "2 - medium\n"
     ]
    }
   ],
   "source": [
    "data['salary'] = encoder.fit_transform(data['salary'])\n",
    "label_dict = dict(zip(encoder.transform(encoder.classes_),\n",
    "                      encoder.classes_))\n",
    "for numerical_value, original_label in label_dict.items():\n",
    "    print(f'{numerical_value} - {original_label}')"
   ]
  },
  {
   "cell_type": "code",
   "execution_count": 65,
   "id": "7db4ef98-2cf8-4141-a7e5-6f52fdb51922",
   "metadata": {},
   "outputs": [
    {
     "name": "stdout",
     "output_type": "stream",
     "text": [
      "0 - IT\n",
      "1 - admin\n",
      "2 - engineering\n",
      "3 - finance\n",
      "4 - logistics\n",
      "5 - marketing\n",
      "6 - operations\n",
      "7 - retail\n",
      "8 - sales\n",
      "9 - support\n"
     ]
    }
   ],
   "source": [
    "data['department'] = encoder.fit_transform(data['department'])\n",
    "label_dict = dict(zip(encoder.transform(encoder.classes_),\n",
    "                      encoder.classes_))\n",
    "for numerical_value, original_label in label_dict.items():\n",
    "    print(f'{numerical_value} - {original_label}')"
   ]
  },
  {
   "cell_type": "code",
   "execution_count": 66,
   "id": "2599a166-d30a-4520-9320-1d1bbb9fab37",
   "metadata": {},
   "outputs": [
    {
     "data": {
      "text/html": [
       "<div>\n",
       "<style scoped>\n",
       "    .dataframe tbody tr th:only-of-type {\n",
       "        vertical-align: middle;\n",
       "    }\n",
       "\n",
       "    .dataframe tbody tr th {\n",
       "        vertical-align: top;\n",
       "    }\n",
       "\n",
       "    .dataframe thead th {\n",
       "        text-align: right;\n",
       "    }\n",
       "</style>\n",
       "<table border=\"1\" class=\"dataframe\">\n",
       "  <thead>\n",
       "    <tr style=\"text-align: right;\">\n",
       "      <th></th>\n",
       "      <th>department</th>\n",
       "      <th>promoted</th>\n",
       "      <th>review</th>\n",
       "      <th>projects</th>\n",
       "      <th>salary</th>\n",
       "      <th>tenure</th>\n",
       "      <th>satisfaction</th>\n",
       "      <th>bonus</th>\n",
       "      <th>avg_hrs_month</th>\n",
       "      <th>left</th>\n",
       "    </tr>\n",
       "  </thead>\n",
       "  <tbody>\n",
       "    <tr>\n",
       "      <th>0</th>\n",
       "      <td>6</td>\n",
       "      <td>0</td>\n",
       "      <td>0.577569</td>\n",
       "      <td>3</td>\n",
       "      <td>1</td>\n",
       "      <td>5.0</td>\n",
       "      <td>0.626759</td>\n",
       "      <td>0</td>\n",
       "      <td>180.866070</td>\n",
       "      <td>0</td>\n",
       "    </tr>\n",
       "    <tr>\n",
       "      <th>1</th>\n",
       "      <td>6</td>\n",
       "      <td>0</td>\n",
       "      <td>0.751900</td>\n",
       "      <td>3</td>\n",
       "      <td>2</td>\n",
       "      <td>6.0</td>\n",
       "      <td>0.443679</td>\n",
       "      <td>0</td>\n",
       "      <td>182.708149</td>\n",
       "      <td>0</td>\n",
       "    </tr>\n",
       "    <tr>\n",
       "      <th>2</th>\n",
       "      <td>9</td>\n",
       "      <td>0</td>\n",
       "      <td>0.722548</td>\n",
       "      <td>3</td>\n",
       "      <td>2</td>\n",
       "      <td>6.0</td>\n",
       "      <td>0.446823</td>\n",
       "      <td>0</td>\n",
       "      <td>184.416084</td>\n",
       "      <td>0</td>\n",
       "    </tr>\n",
       "    <tr>\n",
       "      <th>3</th>\n",
       "      <td>4</td>\n",
       "      <td>0</td>\n",
       "      <td>0.675158</td>\n",
       "      <td>4</td>\n",
       "      <td>0</td>\n",
       "      <td>8.0</td>\n",
       "      <td>0.440139</td>\n",
       "      <td>0</td>\n",
       "      <td>188.707545</td>\n",
       "      <td>0</td>\n",
       "    </tr>\n",
       "    <tr>\n",
       "      <th>4</th>\n",
       "      <td>8</td>\n",
       "      <td>0</td>\n",
       "      <td>0.676203</td>\n",
       "      <td>3</td>\n",
       "      <td>0</td>\n",
       "      <td>5.0</td>\n",
       "      <td>0.577607</td>\n",
       "      <td>1</td>\n",
       "      <td>179.821083</td>\n",
       "      <td>0</td>\n",
       "    </tr>\n",
       "    <tr>\n",
       "      <th>...</th>\n",
       "      <td>...</td>\n",
       "      <td>...</td>\n",
       "      <td>...</td>\n",
       "      <td>...</td>\n",
       "      <td>...</td>\n",
       "      <td>...</td>\n",
       "      <td>...</td>\n",
       "      <td>...</td>\n",
       "      <td>...</td>\n",
       "      <td>...</td>\n",
       "    </tr>\n",
       "    <tr>\n",
       "      <th>9535</th>\n",
       "      <td>6</td>\n",
       "      <td>0</td>\n",
       "      <td>0.610988</td>\n",
       "      <td>4</td>\n",
       "      <td>2</td>\n",
       "      <td>8.0</td>\n",
       "      <td>0.543641</td>\n",
       "      <td>0</td>\n",
       "      <td>188.155738</td>\n",
       "      <td>1</td>\n",
       "    </tr>\n",
       "    <tr>\n",
       "      <th>9536</th>\n",
       "      <td>4</td>\n",
       "      <td>0</td>\n",
       "      <td>0.746887</td>\n",
       "      <td>3</td>\n",
       "      <td>2</td>\n",
       "      <td>8.0</td>\n",
       "      <td>0.549048</td>\n",
       "      <td>0</td>\n",
       "      <td>188.176164</td>\n",
       "      <td>1</td>\n",
       "    </tr>\n",
       "    <tr>\n",
       "      <th>9537</th>\n",
       "      <td>6</td>\n",
       "      <td>0</td>\n",
       "      <td>0.557980</td>\n",
       "      <td>3</td>\n",
       "      <td>1</td>\n",
       "      <td>7.0</td>\n",
       "      <td>0.705425</td>\n",
       "      <td>0</td>\n",
       "      <td>186.531008</td>\n",
       "      <td>1</td>\n",
       "    </tr>\n",
       "    <tr>\n",
       "      <th>9538</th>\n",
       "      <td>0</td>\n",
       "      <td>0</td>\n",
       "      <td>0.584446</td>\n",
       "      <td>4</td>\n",
       "      <td>2</td>\n",
       "      <td>8.0</td>\n",
       "      <td>0.607287</td>\n",
       "      <td>1</td>\n",
       "      <td>187.641370</td>\n",
       "      <td>1</td>\n",
       "    </tr>\n",
       "    <tr>\n",
       "      <th>9539</th>\n",
       "      <td>3</td>\n",
       "      <td>0</td>\n",
       "      <td>0.626373</td>\n",
       "      <td>3</td>\n",
       "      <td>1</td>\n",
       "      <td>7.0</td>\n",
       "      <td>0.706455</td>\n",
       "      <td>1</td>\n",
       "      <td>185.920934</td>\n",
       "      <td>1</td>\n",
       "    </tr>\n",
       "  </tbody>\n",
       "</table>\n",
       "<p>9540 rows × 10 columns</p>\n",
       "</div>"
      ],
      "text/plain": [
       "      department  promoted    review  projects  salary  tenure  satisfaction  \\\n",
       "0              6         0  0.577569         3       1     5.0      0.626759   \n",
       "1              6         0  0.751900         3       2     6.0      0.443679   \n",
       "2              9         0  0.722548         3       2     6.0      0.446823   \n",
       "3              4         0  0.675158         4       0     8.0      0.440139   \n",
       "4              8         0  0.676203         3       0     5.0      0.577607   \n",
       "...          ...       ...       ...       ...     ...     ...           ...   \n",
       "9535           6         0  0.610988         4       2     8.0      0.543641   \n",
       "9536           4         0  0.746887         3       2     8.0      0.549048   \n",
       "9537           6         0  0.557980         3       1     7.0      0.705425   \n",
       "9538           0         0  0.584446         4       2     8.0      0.607287   \n",
       "9539           3         0  0.626373         3       1     7.0      0.706455   \n",
       "\n",
       "      bonus  avg_hrs_month  left  \n",
       "0         0     180.866070     0  \n",
       "1         0     182.708149     0  \n",
       "2         0     184.416084     0  \n",
       "3         0     188.707545     0  \n",
       "4         1     179.821083     0  \n",
       "...     ...            ...   ...  \n",
       "9535      0     188.155738     1  \n",
       "9536      0     188.176164     1  \n",
       "9537      0     186.531008     1  \n",
       "9538      1     187.641370     1  \n",
       "9539      1     185.920934     1  \n",
       "\n",
       "[9540 rows x 10 columns]"
      ]
     },
     "execution_count": 66,
     "metadata": {},
     "output_type": "execute_result"
    }
   ],
   "source": [
    "data"
   ]
  },
  {
   "cell_type": "code",
   "execution_count": 67,
   "id": "c0720af4-8038-4014-9fde-eed90d5cdfeb",
   "metadata": {},
   "outputs": [
    {
     "data": {
      "text/plain": [
       "Index(['department', 'promoted', 'review', 'projects', 'salary', 'tenure',\n",
       "       'satisfaction', 'bonus', 'avg_hrs_month', 'left'],\n",
       "      dtype='object')"
      ]
     },
     "execution_count": 67,
     "metadata": {},
     "output_type": "execute_result"
    }
   ],
   "source": [
    "data.columns"
   ]
  },
  {
   "cell_type": "code",
   "execution_count": 68,
   "id": "ac38d5a3-186a-4b68-9e58-6e36b2b7ee43",
   "metadata": {},
   "outputs": [],
   "source": [
    "x = data.drop('left',axis=1)\n",
    "y = data['left']"
   ]
  },
  {
   "cell_type": "code",
   "execution_count": 69,
   "id": "96e7f530-53dd-4ef1-bb51-ec500af9ead3",
   "metadata": {},
   "outputs": [],
   "source": [
    "from sklearn.model_selection import train_test_split"
   ]
  },
  {
   "cell_type": "code",
   "execution_count": 70,
   "id": "5b98dcbb-63f7-4105-aa52-5f5c2190e2e7",
   "metadata": {},
   "outputs": [],
   "source": [
    "x_train,x_test,y_train,y_test = train_test_split(x,y,\n",
    "                                                test_size=0.25,\n",
    "                                                random_state=42)"
   ]
  },
  {
   "cell_type": "code",
   "execution_count": 71,
   "id": "459b3066-c1a6-4cb6-bf00-d449a960349c",
   "metadata": {},
   "outputs": [],
   "source": [
    "from sklearn.tree import DecisionTreeClassifier,plot_tree"
   ]
  },
  {
   "cell_type": "code",
   "execution_count": 72,
   "id": "69a6ad51-292c-47c4-882c-78b58d817193",
   "metadata": {},
   "outputs": [],
   "source": [
    "model = DecisionTreeClassifier()"
   ]
  },
  {
   "cell_type": "code",
   "execution_count": 73,
   "id": "9d7635c2-c9c5-42af-8255-df7dc1ab43f5",
   "metadata": {},
   "outputs": [],
   "source": [
    "from sklearn.model_selection import GridSearchCV"
   ]
  },
  {
   "cell_type": "code",
   "execution_count": 74,
   "id": "53148cea-430b-4b1c-8dca-af77dc0fdc02",
   "metadata": {},
   "outputs": [
    {
     "name": "stdout",
     "output_type": "stream",
     "text": [
      "Fitting 5 folds for each of 36 candidates, totalling 180 fits\n",
      "The Best Parameters are {'max_depth': 10, 'min_samples_leaf': 2, 'min_samples_split': 10}\n"
     ]
    }
   ],
   "source": [
    "param_grid = {'max_depth':[None,5,10,15],\n",
    "             'min_samples_split':[2,5,10],\n",
    "             'min_samples_leaf':[1,2,5]}\n",
    "#we will assign the above parameters to our GridSearchCVmodel\n",
    "grid_search = GridSearchCV(model,param_grid,\n",
    "                          cv=5,n_jobs=-1,\n",
    "                          verbose=1)\n",
    "#fit the data to the model\n",
    "grid_search.fit(x_train,y_train)\n",
    "#choose the best parameters\n",
    "print(\"The Best Parameters are\",grid_search.best_params_)"
   ]
  },
  {
   "cell_type": "code",
   "execution_count": 75,
   "id": "72bb7a98-7e93-4f95-89f3-a7479678fc4c",
   "metadata": {},
   "outputs": [
    {
     "data": {
      "text/html": [
       "<style>#sk-container-id-2 {color: black;}#sk-container-id-2 pre{padding: 0;}#sk-container-id-2 div.sk-toggleable {background-color: white;}#sk-container-id-2 label.sk-toggleable__label {cursor: pointer;display: block;width: 100%;margin-bottom: 0;padding: 0.3em;box-sizing: border-box;text-align: center;}#sk-container-id-2 label.sk-toggleable__label-arrow:before {content: \"▸\";float: left;margin-right: 0.25em;color: #696969;}#sk-container-id-2 label.sk-toggleable__label-arrow:hover:before {color: black;}#sk-container-id-2 div.sk-estimator:hover label.sk-toggleable__label-arrow:before {color: black;}#sk-container-id-2 div.sk-toggleable__content {max-height: 0;max-width: 0;overflow: hidden;text-align: left;background-color: #f0f8ff;}#sk-container-id-2 div.sk-toggleable__content pre {margin: 0.2em;color: black;border-radius: 0.25em;background-color: #f0f8ff;}#sk-container-id-2 input.sk-toggleable__control:checked~div.sk-toggleable__content {max-height: 200px;max-width: 100%;overflow: auto;}#sk-container-id-2 input.sk-toggleable__control:checked~label.sk-toggleable__label-arrow:before {content: \"▾\";}#sk-container-id-2 div.sk-estimator input.sk-toggleable__control:checked~label.sk-toggleable__label {background-color: #d4ebff;}#sk-container-id-2 div.sk-label input.sk-toggleable__control:checked~label.sk-toggleable__label {background-color: #d4ebff;}#sk-container-id-2 input.sk-hidden--visually {border: 0;clip: rect(1px 1px 1px 1px);clip: rect(1px, 1px, 1px, 1px);height: 1px;margin: -1px;overflow: hidden;padding: 0;position: absolute;width: 1px;}#sk-container-id-2 div.sk-estimator {font-family: monospace;background-color: #f0f8ff;border: 1px dotted black;border-radius: 0.25em;box-sizing: border-box;margin-bottom: 0.5em;}#sk-container-id-2 div.sk-estimator:hover {background-color: #d4ebff;}#sk-container-id-2 div.sk-parallel-item::after {content: \"\";width: 100%;border-bottom: 1px solid gray;flex-grow: 1;}#sk-container-id-2 div.sk-label:hover label.sk-toggleable__label {background-color: #d4ebff;}#sk-container-id-2 div.sk-serial::before {content: \"\";position: absolute;border-left: 1px solid gray;box-sizing: border-box;top: 0;bottom: 0;left: 50%;z-index: 0;}#sk-container-id-2 div.sk-serial {display: flex;flex-direction: column;align-items: center;background-color: white;padding-right: 0.2em;padding-left: 0.2em;position: relative;}#sk-container-id-2 div.sk-item {position: relative;z-index: 1;}#sk-container-id-2 div.sk-parallel {display: flex;align-items: stretch;justify-content: center;background-color: white;position: relative;}#sk-container-id-2 div.sk-item::before, #sk-container-id-2 div.sk-parallel-item::before {content: \"\";position: absolute;border-left: 1px solid gray;box-sizing: border-box;top: 0;bottom: 0;left: 50%;z-index: -1;}#sk-container-id-2 div.sk-parallel-item {display: flex;flex-direction: column;z-index: 1;position: relative;background-color: white;}#sk-container-id-2 div.sk-parallel-item:first-child::after {align-self: flex-end;width: 50%;}#sk-container-id-2 div.sk-parallel-item:last-child::after {align-self: flex-start;width: 50%;}#sk-container-id-2 div.sk-parallel-item:only-child::after {width: 0;}#sk-container-id-2 div.sk-dashed-wrapped {border: 1px dashed gray;margin: 0 0.4em 0.5em 0.4em;box-sizing: border-box;padding-bottom: 0.4em;background-color: white;}#sk-container-id-2 div.sk-label label {font-family: monospace;font-weight: bold;display: inline-block;line-height: 1.2em;}#sk-container-id-2 div.sk-label-container {text-align: center;}#sk-container-id-2 div.sk-container {/* jupyter's `normalize.less` sets `[hidden] { display: none; }` but bootstrap.min.css set `[hidden] { display: none !important; }` so we also need the `!important` here to be able to override the default hidden behavior on the sphinx rendered scikit-learn.org. See: https://github.com/scikit-learn/scikit-learn/issues/21755 */display: inline-block !important;position: relative;}#sk-container-id-2 div.sk-text-repr-fallback {display: none;}</style><div id=\"sk-container-id-2\" class=\"sk-top-container\"><div class=\"sk-text-repr-fallback\"><pre>DecisionTreeClassifier(max_depth=5, min_samples_leaf=2, min_samples_split=10)</pre><b>In a Jupyter environment, please rerun this cell to show the HTML representation or trust the notebook. <br />On GitHub, the HTML representation is unable to render, please try loading this page with nbviewer.org.</b></div><div class=\"sk-container\" hidden><div class=\"sk-item\"><div class=\"sk-estimator sk-toggleable\"><input class=\"sk-toggleable__control sk-hidden--visually\" id=\"sk-estimator-id-2\" type=\"checkbox\" checked><label for=\"sk-estimator-id-2\" class=\"sk-toggleable__label sk-toggleable__label-arrow\">DecisionTreeClassifier</label><div class=\"sk-toggleable__content\"><pre>DecisionTreeClassifier(max_depth=5, min_samples_leaf=2, min_samples_split=10)</pre></div></div></div></div></div>"
      ],
      "text/plain": [
       "DecisionTreeClassifier(max_depth=5, min_samples_leaf=2, min_samples_split=10)"
      ]
     },
     "execution_count": 75,
     "metadata": {},
     "output_type": "execute_result"
    }
   ],
   "source": [
    "model = DecisionTreeClassifier(max_depth=5,\n",
    "                              min_samples_leaf=2,\n",
    "                              min_samples_split=10)\n",
    "#fit the data to the model\n",
    "model.fit(x_train,y_train)"
   ]
  },
  {
   "cell_type": "code",
   "execution_count": 76,
   "id": "fff28273-ac5a-4262-b669-c69935ce20ba",
   "metadata": {},
   "outputs": [],
   "source": [
    "decision_tree_predictions = model.predict(x_test)"
   ]
  },
  {
   "cell_type": "code",
   "execution_count": 77,
   "id": "1d68796d-7310-4dd1-ac8b-444d2fc3727f",
   "metadata": {},
   "outputs": [],
   "source": [
    "from sklearn.metrics import accuracy_score,classification_report,confusion_matrix"
   ]
  },
  {
   "cell_type": "code",
   "execution_count": 78,
   "id": "8c34b362-4587-4afb-a611-64894d178bcc",
   "metadata": {},
   "outputs": [
    {
     "name": "stdout",
     "output_type": "stream",
     "text": [
      "Accuracy Score 0.8364779874213837\n"
     ]
    }
   ],
   "source": [
    "print(\"Accuracy Score\",accuracy_score(y_test,decision_tree_predictions))"
   ]
  },
  {
   "cell_type": "code",
   "execution_count": 79,
   "id": "b96464bc-97f2-46dc-afd8-55bf493a1b3b",
   "metadata": {},
   "outputs": [
    {
     "name": "stdout",
     "output_type": "stream",
     "text": [
      "Classification Report               precision    recall  f1-score   support\n",
      "\n",
      "           0       0.87      0.90      0.88      1670\n",
      "           1       0.74      0.69      0.72       715\n",
      "\n",
      "    accuracy                           0.84      2385\n",
      "   macro avg       0.81      0.80      0.80      2385\n",
      "weighted avg       0.83      0.84      0.83      2385\n",
      "\n"
     ]
    }
   ],
   "source": [
    "print(\"Classification Report\",classification_report(y_test,decision_tree_predictions))"
   ]
  },
  {
   "cell_type": "code",
   "execution_count": 80,
   "id": "1bf22272-0266-4fac-9b16-919260639fec",
   "metadata": {},
   "outputs": [
    {
     "name": "stdout",
     "output_type": "stream",
     "text": [
      "Confusion Matrix \n",
      " [[1499  171]\n",
      " [ 219  496]]\n"
     ]
    }
   ],
   "source": [
    "print(\"Confusion Matrix \\n\",confusion_matrix(y_test,decision_tree_predictions))"
   ]
  },
  {
   "cell_type": "code",
   "execution_count": 81,
   "id": "7b4a2c0d-56f9-4595-a32d-228738ce4ad9",
   "metadata": {},
   "outputs": [
    {
     "data": {
      "text/plain": [
       "Index(['department', 'promoted', 'review', 'projects', 'salary', 'tenure',\n",
       "       'satisfaction', 'bonus', 'avg_hrs_month'],\n",
       "      dtype='object')"
      ]
     },
     "execution_count": 81,
     "metadata": {},
     "output_type": "execute_result"
    }
   ],
   "source": [
    "x.columns"
   ]
  },
  {
   "cell_type": "code",
   "execution_count": 82,
   "id": "16719426-2f4e-4b40-ae7d-d88e12257730",
   "metadata": {},
   "outputs": [
    {
     "name": "stdout",
     "output_type": "stream",
     "text": [
      "Index is 2\n",
      "Feature Name is review\n",
      "Root Node Impurity is 0.4111000844336815\n"
     ]
    }
   ],
   "source": [
    "#Access our tree attributes\n",
    "tree_ = model.tree_\n",
    "root_node = 0 #As root node index will be 0\n",
    "feature_names = x.columns \n",
    "# Get the feature index of the root node\n",
    "root_feature_index = tree_.feature[root_node]\n",
    "# Get the feature name from the original dataset\n",
    "root_feature_name = feature_names[root_feature_index]\n",
    "print(\"Index is\",root_feature_index)\n",
    "print(\"Feature Name is\",root_feature_name)\n",
    "print(\"Root Node Impurity is\",tree_.impurity[root_node])"
   ]
  },
  {
   "cell_type": "code",
   "execution_count": 83,
   "id": "77c22718-c8b2-40c9-9f74-2e17fddcb7a8",
   "metadata": {},
   "outputs": [
    {
     "data": {
      "image/png": "[encoded data removed]",
      "text/plain": [
       "<Figure size 3600x800 with 1 Axes>"
      ]
     },
     "metadata": {},
     "output_type": "display_data"
    }
   ],
   "source": [
    "#Now let's visualize the DecisionTree -->plot_tree\n",
    "import matplotlib.pyplot as plt\n",
    "#we will define the figure size for a better view\n",
    "plt.figure(figsize=(36,8))\n",
    "plot_tree(model,feature_names=x.columns,filled=True,\n",
    "          rounded=True)\n",
    "plt.show()\n",
    "# plt.savefig(\"Loan_Tree.png\")"
   ]
  },
  {
   "cell_type": "code",
   "execution_count": 84,
   "id": "67ea2008-5697-4426-8765-214ce6e6b6f3",
   "metadata": {},
   "outputs": [
    {
     "name": "stdout",
     "output_type": "stream",
     "text": [
      "<class 'pandas.core.frame.DataFrame'>\n",
      "RangeIndex: 9540 entries, 0 to 9539\n",
      "Data columns (total 9 columns):\n",
      " #   Column         Non-Null Count  Dtype  \n",
      "---  ------         --------------  -----  \n",
      " 0   department     9540 non-null   int32  \n",
      " 1   promoted       9540 non-null   int64  \n",
      " 2   review         9540 non-null   float64\n",
      " 3   projects       9540 non-null   int64  \n",
      " 4   salary         9540 non-null   int32  \n",
      " 5   tenure         9540 non-null   float64\n",
      " 6   satisfaction   9540 non-null   float64\n",
      " 7   bonus          9540 non-null   int64  \n",
      " 8   avg_hrs_month  9540 non-null   float64\n",
      "dtypes: float64(4), int32(2), int64(3)\n",
      "memory usage: 596.4 KB\n"
     ]
    }
   ],
   "source": [
    "x.info()"
   ]
  },
  {
   "cell_type": "code",
   "execution_count": 85,
   "id": "98d0eb8c-fd67-437a-8b3c-52c0d7f91789",
   "metadata": {},
   "outputs": [
    {
     "data": {
      "text/html": [
       "<div>\n",
       "<style scoped>\n",
       "    .dataframe tbody tr th:only-of-type {\n",
       "        vertical-align: middle;\n",
       "    }\n",
       "\n",
       "    .dataframe tbody tr th {\n",
       "        vertical-align: top;\n",
       "    }\n",
       "\n",
       "    .dataframe thead th {\n",
       "        text-align: right;\n",
       "    }\n",
       "</style>\n",
       "<table border=\"1\" class=\"dataframe\">\n",
       "  <thead>\n",
       "    <tr style=\"text-align: right;\">\n",
       "      <th></th>\n",
       "      <th>department</th>\n",
       "      <th>promoted</th>\n",
       "      <th>review</th>\n",
       "      <th>projects</th>\n",
       "      <th>salary</th>\n",
       "      <th>tenure</th>\n",
       "      <th>satisfaction</th>\n",
       "      <th>bonus</th>\n",
       "      <th>avg_hrs_month</th>\n",
       "      <th>left</th>\n",
       "    </tr>\n",
       "  </thead>\n",
       "  <tbody>\n",
       "    <tr>\n",
       "      <th>0</th>\n",
       "      <td>6</td>\n",
       "      <td>0</td>\n",
       "      <td>0.577569</td>\n",
       "      <td>3</td>\n",
       "      <td>1</td>\n",
       "      <td>5.0</td>\n",
       "      <td>0.626759</td>\n",
       "      <td>0</td>\n",
       "      <td>180.866070</td>\n",
       "      <td>0</td>\n",
       "    </tr>\n",
       "    <tr>\n",
       "      <th>1</th>\n",
       "      <td>6</td>\n",
       "      <td>0</td>\n",
       "      <td>0.751900</td>\n",
       "      <td>3</td>\n",
       "      <td>2</td>\n",
       "      <td>6.0</td>\n",
       "      <td>0.443679</td>\n",
       "      <td>0</td>\n",
       "      <td>182.708149</td>\n",
       "      <td>0</td>\n",
       "    </tr>\n",
       "    <tr>\n",
       "      <th>2</th>\n",
       "      <td>9</td>\n",
       "      <td>0</td>\n",
       "      <td>0.722548</td>\n",
       "      <td>3</td>\n",
       "      <td>2</td>\n",
       "      <td>6.0</td>\n",
       "      <td>0.446823</td>\n",
       "      <td>0</td>\n",
       "      <td>184.416084</td>\n",
       "      <td>0</td>\n",
       "    </tr>\n",
       "    <tr>\n",
       "      <th>3</th>\n",
       "      <td>4</td>\n",
       "      <td>0</td>\n",
       "      <td>0.675158</td>\n",
       "      <td>4</td>\n",
       "      <td>0</td>\n",
       "      <td>8.0</td>\n",
       "      <td>0.440139</td>\n",
       "      <td>0</td>\n",
       "      <td>188.707545</td>\n",
       "      <td>0</td>\n",
       "    </tr>\n",
       "    <tr>\n",
       "      <th>4</th>\n",
       "      <td>8</td>\n",
       "      <td>0</td>\n",
       "      <td>0.676203</td>\n",
       "      <td>3</td>\n",
       "      <td>0</td>\n",
       "      <td>5.0</td>\n",
       "      <td>0.577607</td>\n",
       "      <td>1</td>\n",
       "      <td>179.821083</td>\n",
       "      <td>0</td>\n",
       "    </tr>\n",
       "  </tbody>\n",
       "</table>\n",
       "</div>"
      ],
      "text/plain": [
       "   department  promoted    review  projects  salary  tenure  satisfaction  \\\n",
       "0           6         0  0.577569         3       1     5.0      0.626759   \n",
       "1           6         0  0.751900         3       2     6.0      0.443679   \n",
       "2           9         0  0.722548         3       2     6.0      0.446823   \n",
       "3           4         0  0.675158         4       0     8.0      0.440139   \n",
       "4           8         0  0.676203         3       0     5.0      0.577607   \n",
       "\n",
       "   bonus  avg_hrs_month  left  \n",
       "0      0     180.866070     0  \n",
       "1      0     182.708149     0  \n",
       "2      0     184.416084     0  \n",
       "3      0     188.707545     0  \n",
       "4      1     179.821083     0  "
      ]
     },
     "execution_count": 85,
     "metadata": {},
     "output_type": "execute_result"
    }
   ],
   "source": [
    "data.head()"
   ]
  },
  {
   "cell_type": "code",
   "execution_count": 86,
   "id": "1da20a61-d161-4856-a588-235a5c2bfebd",
   "metadata": {},
   "outputs": [
    {
     "name": "stdin",
     "output_type": "stream",
     "text": [
      "Enter Promoted -->0/1: 0\n",
      "Enter Review: 0.6\n",
      "Enter no. of  Projects: 3\n",
      "Enter the Salary -->0/2: 0\n",
      "Enter the Tenure: 5.0\n",
      "Enter Satisfaction: 0.5\n",
      "Bonus: 1\n",
      "avg_hrs_month: 179.2\n",
      "left -->0/1 0\n"
     ]
    }
   ],
   "source": [
    "#check the model with input sample\n",
    "# department = int(input(\"Enter the department -->0/9:\"))\n",
    "promoted = int(input(\"Enter Promoted -->0/1:\"))\n",
    "review = float(input(\"Enter Review:\"))\n",
    "projects = int(input(\"Enter no. of  Projects:\"))\n",
    "salary = int(input(\"Enter the Salary -->0/2:\"))\n",
    "tenure = float(input(\"Enter the Tenure:\"))\n",
    "satisfaction = float(input(\"Enter Satisfaction:\"))\n",
    "bonus = int(input(\"Bonus:\"))\n",
    "avg_hrs_month = float(input(\"avg_hrs_month:\"))\n",
    "left = int(input(\"left -->0/1\"))"
   ]
  },
  {
   "cell_type": "code",
   "execution_count": 87,
   "id": "880a929d-7645-4307-a5f2-e448d4710426",
   "metadata": {},
   "outputs": [
    {
     "name": "stdout",
     "output_type": "stream",
     "text": [
      "Retention\n"
     ]
    },
    {
     "name": "stderr",
     "output_type": "stream",
     "text": [
      "C:\\Users\\prana\\Desktop\\Intern\\ds\\datascience\\lib\\site-packages\\sklearn\\base.py:465: UserWarning: X does not have valid feature names, but DecisionTreeClassifier was fitted with feature names\n",
      "  warnings.warn(\n"
     ]
    }
   ],
   "source": [
    "import numpy as np\n",
    "#pass the above variables to create an array\n",
    "user_input = np.array([[promoted,review,projects,salary,tenure,satisfaction,bonus,avg_hrs_month,left]])\n",
    "#user_input\n",
    "#let's check the prediction\n",
    "prediction = model.predict(user_input)[0]\n",
    "if prediction == 1:\n",
    "    print(\"Retention\")\n",
    "else:\n",
    "    print(\"Attrition\")"
   ]
  },
  {
   "cell_type": "code",
   "execution_count": 88,
   "id": "f7e504b9-45ee-404d-9eea-48f275bfab7a",
   "metadata": {},
   "outputs": [],
   "source": [
    "from sklearn.model_selection import train_test_split\n",
    "from sklearn.preprocessing import StandardScaler\n",
    "from sklearn.ensemble import RandomForestClassifier\n",
    "from sklearn.linear_model import LogisticRegression\n",
    "from sklearn.metrics import accuracy_score, classification_report"
   ]
  },
  {
   "cell_type": "code",
   "execution_count": 89,
   "id": "fc545b4b-a61e-4e97-b754-75bbf60307c6",
   "metadata": {},
   "outputs": [
    {
     "name": "stdout",
     "output_type": "stream",
     "text": [
      "Random Forest Classifier Results:\n",
      "Accuracy: 0.86\n",
      "Classification Report:\n",
      "              precision    recall  f1-score   support\n",
      "\n",
      "           0       0.87      0.93      0.90      1330\n",
      "           1       0.81      0.69      0.75       578\n",
      "\n",
      "    accuracy                           0.86      1908\n",
      "   macro avg       0.84      0.81      0.82      1908\n",
      "weighted avg       0.86      0.86      0.85      1908\n",
      "\n",
      "\n",
      "Logistic Regression Results:\n",
      "Accuracy: 0.74\n",
      "Classification Report:\n",
      "              precision    recall  f1-score   support\n",
      "\n",
      "           0       0.74      0.95      0.83      1330\n",
      "           1       0.67      0.25      0.36       578\n",
      "\n",
      "    accuracy                           0.74      1908\n",
      "   macro avg       0.71      0.60      0.60      1908\n",
      "weighted avg       0.72      0.74      0.69      1908\n",
      "\n"
     ]
    }
   ],
   "source": [
    "X = data.drop('left', axis=1)\n",
    "y = data['left']\n",
    "# Splitting the dataset into training and testing sets\n",
    "X_train, X_test, y_train, y_test = train_test_split(X, y, test_size=0.2, random_state=42)\n",
    "scaler = StandardScaler()\n",
    "X_train_scaled = scaler.fit_transform(X_train)\n",
    "X_test_scaled = scaler.transform(X_test)\n",
    "rf_model = RandomForestClassifier(n_estimators=100, random_state=42)\n",
    "rf_model.fit(X_train_scaled, y_train)\n",
    "rf_predictions = rf_model.predict(X_test_scaled)\n",
    "rf_accuracy = accuracy_score(y_test, rf_predictions)\n",
    "print(\"Random Forest Classifier Results:\")\n",
    "print(f\"Accuracy: {rf_accuracy:.2f}\")\n",
    "print(\"Classification Report:\")\n",
    "print(classification_report(y_test, rf_predictions))\n",
    "\n",
    "# Model building - Logistic Regression\n",
    "logreg_model = LogisticRegression(max_iter=1000)\n",
    "logreg_model.fit(X_train_scaled, y_train)\n",
    "\n",
    "# Model evaluation for Logistic Regression\n",
    "logreg_predictions = logreg_model.predict(X_test_scaled)\n",
    "logreg_accuracy = accuracy_score(y_test, logreg_predictions)\n",
    "print(\"\\nLogistic Regression Results:\")\n",
    "print(f\"Accuracy: {logreg_accuracy:.2f}\")\n",
    "print(\"Classification Report:\")\n",
    "print(classification_report(y_test, logreg_predictions))"
   ]
  },
  {
   "cell_type": "code",
   "execution_count": 90,
   "id": "132f5dca-908b-4816-9916-727908438db2",
   "metadata": {},
   "outputs": [
    {
     "data": {
      "text/html": [
       "<div>\n",
       "<style scoped>\n",
       "    .dataframe tbody tr th:only-of-type {\n",
       "        vertical-align: middle;\n",
       "    }\n",
       "\n",
       "    .dataframe tbody tr th {\n",
       "        vertical-align: top;\n",
       "    }\n",
       "\n",
       "    .dataframe thead th {\n",
       "        text-align: right;\n",
       "    }\n",
       "</style>\n",
       "<table border=\"1\" class=\"dataframe\">\n",
       "  <thead>\n",
       "    <tr style=\"text-align: right;\">\n",
       "      <th></th>\n",
       "      <th>department</th>\n",
       "      <th>promoted</th>\n",
       "      <th>review</th>\n",
       "      <th>projects</th>\n",
       "      <th>salary</th>\n",
       "      <th>tenure</th>\n",
       "      <th>satisfaction</th>\n",
       "      <th>bonus</th>\n",
       "      <th>avg_hrs_month</th>\n",
       "      <th>left</th>\n",
       "    </tr>\n",
       "  </thead>\n",
       "  <tbody>\n",
       "    <tr>\n",
       "      <th>0</th>\n",
       "      <td>6</td>\n",
       "      <td>0</td>\n",
       "      <td>0.577569</td>\n",
       "      <td>3</td>\n",
       "      <td>1</td>\n",
       "      <td>5.0</td>\n",
       "      <td>0.626759</td>\n",
       "      <td>0</td>\n",
       "      <td>180.866070</td>\n",
       "      <td>0</td>\n",
       "    </tr>\n",
       "    <tr>\n",
       "      <th>1</th>\n",
       "      <td>6</td>\n",
       "      <td>0</td>\n",
       "      <td>0.751900</td>\n",
       "      <td>3</td>\n",
       "      <td>2</td>\n",
       "      <td>6.0</td>\n",
       "      <td>0.443679</td>\n",
       "      <td>0</td>\n",
       "      <td>182.708149</td>\n",
       "      <td>0</td>\n",
       "    </tr>\n",
       "    <tr>\n",
       "      <th>2</th>\n",
       "      <td>9</td>\n",
       "      <td>0</td>\n",
       "      <td>0.722548</td>\n",
       "      <td>3</td>\n",
       "      <td>2</td>\n",
       "      <td>6.0</td>\n",
       "      <td>0.446823</td>\n",
       "      <td>0</td>\n",
       "      <td>184.416084</td>\n",
       "      <td>0</td>\n",
       "    </tr>\n",
       "    <tr>\n",
       "      <th>3</th>\n",
       "      <td>4</td>\n",
       "      <td>0</td>\n",
       "      <td>0.675158</td>\n",
       "      <td>4</td>\n",
       "      <td>0</td>\n",
       "      <td>8.0</td>\n",
       "      <td>0.440139</td>\n",
       "      <td>0</td>\n",
       "      <td>188.707545</td>\n",
       "      <td>0</td>\n",
       "    </tr>\n",
       "    <tr>\n",
       "      <th>4</th>\n",
       "      <td>8</td>\n",
       "      <td>0</td>\n",
       "      <td>0.676203</td>\n",
       "      <td>3</td>\n",
       "      <td>0</td>\n",
       "      <td>5.0</td>\n",
       "      <td>0.577607</td>\n",
       "      <td>1</td>\n",
       "      <td>179.821083</td>\n",
       "      <td>0</td>\n",
       "    </tr>\n",
       "  </tbody>\n",
       "</table>\n",
       "</div>"
      ],
      "text/plain": [
       "   department  promoted    review  projects  salary  tenure  satisfaction  \\\n",
       "0           6         0  0.577569         3       1     5.0      0.626759   \n",
       "1           6         0  0.751900         3       2     6.0      0.443679   \n",
       "2           9         0  0.722548         3       2     6.0      0.446823   \n",
       "3           4         0  0.675158         4       0     8.0      0.440139   \n",
       "4           8         0  0.676203         3       0     5.0      0.577607   \n",
       "\n",
       "   bonus  avg_hrs_month  left  \n",
       "0      0     180.866070     0  \n",
       "1      0     182.708149     0  \n",
       "2      0     184.416084     0  \n",
       "3      0     188.707545     0  \n",
       "4      1     179.821083     0  "
      ]
     },
     "execution_count": 90,
     "metadata": {},
     "output_type": "execute_result"
    }
   ],
   "source": [
    "data.head()"
   ]
  },
  {
   "cell_type": "code",
   "execution_count": 91,
   "id": "24e1f3e1-a5d8-407d-8c8a-79211b08ed02",
   "metadata": {},
   "outputs": [
    {
     "name": "stdin",
     "output_type": "stream",
     "text": [
      "Enter Promoted -->0/1: 0\n",
      "Enter Review: 2\n",
      "Enter no. of  Projects: 1\n",
      "Enter the Salary -->0/2: 1\n",
      "Enter the Tenure: 0\n",
      "Enter Satisfaction: 2.3\n",
      "Bonus: 0\n",
      "avg_hrs_month: 15\n",
      "left -->0/1 11\n"
     ]
    }
   ],
   "source": [
    "#check the model with input sample\n",
    "# department = int(input(\"Enter the department -->0/9:\"))\n",
    "promoted = int(input(\"Enter Promoted -->0/1:\"))\n",
    "review = float(input(\"Enter Review:\"))\n",
    "projects = int(input(\"Enter no. of  Projects:\"))\n",
    "salary = int(input(\"Enter the Salary -->0/2:\"))\n",
    "tenure = float(input(\"Enter the Tenure:\"))\n",
    "satisfaction = float(input(\"Enter Satisfaction:\"))\n",
    "bonus = int(input(\"Bonus:\"))\n",
    "avg_hrs_month = float(input(\"avg_hrs_month:\"))\n",
    "self_employed = int(input(\"left -->0/1\"))"
   ]
  },
  {
   "cell_type": "code",
   "execution_count": 92,
   "id": "d1873dcf-2b05-498b-9702-534f25c3e36d",
   "metadata": {},
   "outputs": [
    {
     "name": "stdout",
     "output_type": "stream",
     "text": [
      "Retention\n"
     ]
    },
    {
     "name": "stderr",
     "output_type": "stream",
     "text": [
      "C:\\Users\\prana\\Desktop\\Intern\\ds\\datascience\\lib\\site-packages\\sklearn\\base.py:465: UserWarning: X does not have valid feature names, but DecisionTreeClassifier was fitted with feature names\n",
      "  warnings.warn(\n"
     ]
    }
   ],
   "source": [
    "import numpy as np\n",
    "#pass the above variables to create an array\n",
    "user_input = np.array([[promoted,review,projects,salary,tenure,satisfaction,bonus,avg_hrs_month,self_employed]])\n",
    "#user_input\n",
    "#let's check the prediction\n",
    "prediction = model.predict(user_input)[0]\n",
    "if prediction == 1:\n",
    "    print(\"Retention\")\n",
    "else:\n",
    "    print(\"Attrition\")"
   ]
  },
  {
   "cell_type": "code",
   "execution_count": 93,
   "id": "229372d8-129b-462c-ad6f-8d9bc7cabf56",
   "metadata": {},
   "outputs": [],
   "source": [
    "#Let's check for the outliers within the dataframe\n",
    "#below function will return the outlier percentage within \n",
    "#given column\n",
    "def remove_outliers_and_percentage(data, col, \n",
    "                                   threshold = 1.5):\n",
    "    Q1 = data[col].quantile(0.25)\n",
    "    Q3 = data[col].quantile(0.75)\n",
    "    IQR = Q3 - Q1 #InterQuantile Rang\n",
    "    #defining the lower and upper bounds\n",
    "    lower_bound = Q1 - threshold * IQR\n",
    "    upper_bound = Q3 + threshold * IQR\n",
    "    #Filter the DataFrame to keep only the rows where the\n",
    "    #column values are within the calculated bounds,\n",
    "    #effectively removing outliers\n",
    "    data_no_outliers = data[(data[col] >= lower_bound) & \n",
    "                            (data[col] <= upper_bound)]\n",
    "    percentage_outliers = ((len(data) - len(data_no_outliers)) \n",
    "                           / len(data)) * 100\n",
    "    return data_no_outliers, percentage_outliers"
   ]
  },
  {
   "cell_type": "code",
   "execution_count": 94,
   "id": "2d8c41cd-84ce-40fc-b0c2-ef36cc557c70",
   "metadata": {},
   "outputs": [
    {
     "data": {
      "text/plain": [
       "Index(['department', 'promoted', 'review', 'projects', 'salary', 'tenure',\n",
       "       'satisfaction', 'bonus', 'avg_hrs_month', 'left'],\n",
       "      dtype='object')"
      ]
     },
     "execution_count": 94,
     "metadata": {},
     "output_type": "execute_result"
    }
   ],
   "source": [
    "data.columns"
   ]
  },
  {
   "cell_type": "code",
   "execution_count": 95,
   "id": "2ac7d96f-88e1-4b24-811f-971c45b14c17",
   "metadata": {},
   "outputs": [
    {
     "data": {
      "text/plain": [
       "3.0293501048218032"
      ]
     },
     "execution_count": 95,
     "metadata": {},
     "output_type": "execute_result"
    }
   ],
   "source": [
    "cleaned_data,outlier_percentage = remove_outliers_and_percentage(data,\"promoted\")\n",
    "outlier_percentage"
   ]
  },
  {
   "cell_type": "code",
   "execution_count": 96,
   "id": "b06545ed-c26d-46e7-b224-7a726908daab",
   "metadata": {},
   "outputs": [
    {
     "data": {
      "text/plain": [
       "0.5870020964360587"
      ]
     },
     "execution_count": 96,
     "metadata": {},
     "output_type": "execute_result"
    }
   ],
   "source": [
    "cleaned_data,outlier_percentage = remove_outliers_and_percentage(data,\"review\")\n",
    "outlier_percentage"
   ]
  },
  {
   "cell_type": "code",
   "execution_count": 97,
   "id": "b90eb312-9f96-4e3f-b91f-ed68d1b4848e",
   "metadata": {},
   "outputs": [
    {
     "data": {
      "text/plain": [
       "0.0"
      ]
     },
     "execution_count": 97,
     "metadata": {},
     "output_type": "execute_result"
    }
   ],
   "source": [
    "cleaned_data,outlier_percentage = remove_outliers_and_percentage(data,\"projects\")\n",
    "outlier_percentage"
   ]
  },
  {
   "cell_type": "code",
   "execution_count": 98,
   "id": "3d1e46bd-3790-484b-b611-4cbf90cc0ce4",
   "metadata": {},
   "outputs": [
    {
     "data": {
      "text/plain": [
       "0.0"
      ]
     },
     "execution_count": 98,
     "metadata": {},
     "output_type": "execute_result"
    }
   ],
   "source": [
    "cleaned_data,outlier_percentage = remove_outliers_and_percentage(data,\"salary\")\n",
    "outlier_percentage"
   ]
  },
  {
   "cell_type": "code",
   "execution_count": 99,
   "id": "d959836b-cb53-44fe-adb3-feebcd2b07dc",
   "metadata": {},
   "outputs": [
    {
     "data": {
      "text/plain": [
       "0.0"
      ]
     },
     "execution_count": 99,
     "metadata": {},
     "output_type": "execute_result"
    }
   ],
   "source": [
    "cleaned_data,outlier_percentage = remove_outliers_and_percentage(data,\"tenure\")\n",
    "outlier_percentage"
   ]
  },
  {
   "cell_type": "code",
   "execution_count": 100,
   "id": "eb48e697-2d23-4ae5-a41b-d4f102309aa7",
   "metadata": {},
   "outputs": [
    {
     "data": {
      "text/plain": [
       "0.10482180293501049"
      ]
     },
     "execution_count": 100,
     "metadata": {},
     "output_type": "execute_result"
    }
   ],
   "source": [
    "cleaned_data,outlier_percentage = remove_outliers_and_percentage(data,\"satisfaction\")\n",
    "outlier_percentage"
   ]
  },
  {
   "cell_type": "code",
   "execution_count": 101,
   "id": "58035d64-ae5b-4208-8ccc-9e6370909535",
   "metadata": {},
   "outputs": [
    {
     "data": {
      "text/plain": [
       "21.20545073375262"
      ]
     },
     "execution_count": 101,
     "metadata": {},
     "output_type": "execute_result"
    }
   ],
   "source": [
    "cleaned_data,outlier_percentage = remove_outliers_and_percentage(data,\"bonus\")\n",
    "outlier_percentage"
   ]
  },
  {
   "cell_type": "code",
   "execution_count": 102,
   "id": "c86bf75d-1c2f-474b-9f15-52bfb6a1ee77",
   "metadata": {},
   "outputs": [
    {
     "data": {
      "text/plain": [
       "0.16771488469601675"
      ]
     },
     "execution_count": 102,
     "metadata": {},
     "output_type": "execute_result"
    }
   ],
   "source": [
    "cleaned_data,outlier_percentage = remove_outliers_and_percentage(data,\"avg_hrs_month\")\n",
    "outlier_percentage"
   ]
  },
  {
   "cell_type": "code",
   "execution_count": 103,
   "id": "0967c005-7da2-4c89-a53b-ac6ff90626bc",
   "metadata": {},
   "outputs": [
    {
     "data": {
      "text/plain": [
       "0.0"
      ]
     },
     "execution_count": 103,
     "metadata": {},
     "output_type": "execute_result"
    }
   ],
   "source": [
    "cleaned_data,outlier_percentage = remove_outliers_and_percentage(data,\"left\")\n",
    "outlier_percentage"
   ]
  },
  {
   "cell_type": "code",
   "execution_count": 108,
   "id": "513503b6-9fa3-4eb4-850c-15d68cc2bf97",
   "metadata": {},
   "outputs": [],
   "source": [
    "import pickle"
   ]
  },
  {
   "cell_type": "code",
   "execution_count": 105,
   "id": "fcefed42-e06e-4c77-89eb-6b477828257e",
   "metadata": {},
   "outputs": [],
   "source": [
    "with open(\"Emp_ret_att.pkl\",'wb') as f:\n",
    "    pickle.dump(rf_model,f)"
   ]
  },
  {
   "cell_type": "code",
   "execution_count": 106,
   "id": "e67c2719-a41e-414a-9194-bd9dd768792c",
   "metadata": {},
   "outputs": [
    {
     "name": "stdout",
     "output_type": "stream",
     "text": [
      "Requirement already satisfied: flask in c:\\users\\prana\\desktop\\intern\\ds\\datascience\\lib\\site-packages (3.0.0)\n",
      "Requirement already satisfied: Werkzeug>=3.0.0 in c:\\users\\prana\\desktop\\intern\\ds\\datascience\\lib\\site-packages (from flask) (3.0.1)\n",
      "Requirement already satisfied: Jinja2>=3.1.2 in c:\\users\\prana\\desktop\\intern\\ds\\datascience\\lib\\site-packages (from flask) (3.1.2)\n",
      "Requirement already satisfied: itsdangerous>=2.1.2 in c:\\users\\prana\\desktop\\intern\\ds\\datascience\\lib\\site-packages (from flask) (2.1.2)\n",
      "Requirement already satisfied: click>=8.1.3 in c:\\users\\prana\\desktop\\intern\\ds\\datascience\\lib\\site-packages (from flask) (8.1.7)\n",
      "Requirement already satisfied: blinker>=1.6.2 in c:\\users\\prana\\desktop\\intern\\ds\\datascience\\lib\\site-packages (from flask) (1.7.0)\n",
      "Requirement already satisfied: colorama in c:\\users\\prana\\desktop\\intern\\ds\\datascience\\lib\\site-packages (from click>=8.1.3->flask) (0.4.6)\n",
      "Requirement already satisfied: MarkupSafe>=2.0 in c:\\users\\prana\\desktop\\intern\\ds\\datascience\\lib\\site-packages (from Jinja2>=3.1.2->flask) (2.1.3)\n"
     ]
    }
   ],
   "source": [
    "!pip install flask"
   ]
  },
  {
   "cell_type": "code",
   "execution_count": 115,
   "id": "6916512e-1a31-4a2b-941b-6e3814c21b7e",
   "metadata": {},
   "outputs": [
    {
     "name": "stdout",
     "output_type": "stream",
     "text": [
      "Name: scikit-learnNote: you may need to restart the kernel to use updated packages.\n",
      "\n",
      "Version: 1.3.2\n",
      "Summary: A set of python modules for machine learning and data mining\n",
      "Home-page: http://scikit-learn.org\n",
      "Author: \n",
      "Author-email: \n",
      "License: new BSD\n",
      "Location: c:\\users\\prana\\desktop\\intern\\ds\\datascience\\lib\\site-packages\n",
      "Requires: joblib, numpy, scipy, threadpoolctl\n",
      "Required-by: imbalanced-learn\n"
     ]
    }
   ],
   "source": [
    "pip show scikit-learn\n"
   ]
  },
  {
   "cell_type": "code",
   "execution_count": null,
   "id": "e608b318-1b24-49d4-9b1b-f09b7e012466",
   "metadata": {},
   "outputs": [],
   "source": []
  }
 ],
 "metadata": {
  "kernelspec": {
   "display_name": "Python 3 (ipykernel)",
   "language": "python",
   "name": "python3"
  },
  "language_info": {
   "codemirror_mode": {
    "name": "ipython",
    "version": 3
   },
   "file_extension": ".py",
   "mimetype": "text/x-python",
   "name": "python",
   "nbconvert_exporter": "python",
   "pygments_lexer": "ipython3",
   "version": "3.10.7"
  }
 },
 "nbformat": 4,
 "nbformat_minor": 5
}
